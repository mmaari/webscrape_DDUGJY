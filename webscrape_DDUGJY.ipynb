{
 "cells": [
  {
   "cell_type": "code",
   "execution_count": null,
   "metadata": {},
   "outputs": [],
   "source": [
    "import pandas as pd\n",
    "import requests \n",
    "import re\n",
    "from bs4 import BeautifulSoup\n",
    "import numpy as np\n",
    "import time \n",
    "from time import sleep\n",
    "import csv\n",
    "import progressbar"
   ]
  },
  {
   "cell_type": "code",
   "execution_count": null,
   "metadata": {},
   "outputs": [],
   "source": [
    "#start page with list of states\n",
    "start_page = 'http://www.ddugjy.gov.in/xxicompleteplan'"
   ]
  },
  {
   "cell_type": "code",
   "execution_count": null,
   "metadata": {},
   "outputs": [],
   "source": [
    "#get the links to the states\n",
    "response = requests.get(start_page)\n",
    "start_page = BeautifulSoup(response.text, 'lxml')\n",
    "start_page"
   ]
  },
  {
   "cell_type": "code",
   "execution_count": null,
   "metadata": {},
   "outputs": [],
   "source": [
    "states = start_page.find_all('a', href=True)"
   ]
  },
  {
   "cell_type": "code",
   "execution_count": null,
   "metadata": {},
   "outputs": [],
   "source": [
    "#states"
   ]
  },
  {
   "cell_type": "code",
   "execution_count": null,
   "metadata": {},
   "outputs": [],
   "source": [
    "#type(states)"
   ]
  },
  {
   "cell_type": "code",
   "execution_count": null,
   "metadata": {},
   "outputs": [],
   "source": [
    "#states[1]"
   ]
  },
  {
   "cell_type": "code",
   "execution_count": null,
   "metadata": {},
   "outputs": [],
   "source": [
    "#create a list of links to the states\n",
    "#select only the right links\n",
    "states_link = []\n",
    "for state in states: \n",
    "    link = state['href']\n",
    "    states_link.append(link)\n",
    "states_link"
   ]
  },
  {
   "cell_type": "code",
   "execution_count": null,
   "metadata": {},
   "outputs": [],
   "source": [
    "#len(states_link)"
   ]
  },
  {
   "cell_type": "code",
   "execution_count": null,
   "metadata": {},
   "outputs": [],
   "source": [
    "states_link = [state for state in states_link if '/xxicompleteplan/' in state]\n",
    "len(states_link)"
   ]
  },
  {
   "cell_type": "code",
   "execution_count": null,
   "metadata": {},
   "outputs": [],
   "source": [
    "#states_link"
   ]
  },
  {
   "cell_type": "code",
   "execution_count": null,
   "metadata": {},
   "outputs": [],
   "source": [
    "#create a list of state codes\n",
    "states_code = []\n",
    "for link in states_link: \n",
    "    state_code = link.split('/')[4]\n",
    "    states_code.append(state_code)"
   ]
  },
  {
   "cell_type": "code",
   "execution_count": null,
   "metadata": {
    "scrolled": true
   },
   "outputs": [],
   "source": [
    "len(states_code)"
   ]
  },
  {
   "cell_type": "code",
   "execution_count": null,
   "metadata": {},
   "outputs": [],
   "source": [
    "#request on each link to state\n",
    "#get for each state a list of districts\n",
    "#responses_states = []\n",
    "districts = []\n",
    "\n",
    "for link in states_link: \n",
    "        response = requests.get(link)\n",
    "        soup = BeautifulSoup(response.text, 'lxml')\n",
    "        #responses_states.append(soup)        \n",
    "        #get the link to each district in each state\n",
    "\n",
    "        for line in soup.find_all('a', href=True): #page source behind each state page: contains list of districts in the state\n",
    "            link = line['href']\n",
    "            districts.append(link)\n",
    "        \n",
    "#select the right links\n",
    "districts = [district for district in districts if 'comblockwisexi' in district]"
   ]
  },
  {
   "cell_type": "code",
   "execution_count": null,
   "metadata": {},
   "outputs": [],
   "source": [
    "districts"
   ]
  },
  {
   "cell_type": "code",
   "execution_count": null,
   "metadata": {},
   "outputs": [],
   "source": [
    "len(districts)"
   ]
  },
  {
   "cell_type": "code",
   "execution_count": null,
   "metadata": {},
   "outputs": [],
   "source": [
    "#request on each link to district\n",
    "#each district contains blocks\n",
    "#responses_districts = []\n",
    "blocks = []\n",
    "count = 0\n",
    "\n",
    "bar = progressbar.ProgressBar(max_value=len(districts))\n",
    "\n",
    "for link in districts: \n",
    "    response = requests.get(link)\n",
    "    soup = BeautifulSoup(response.text, 'lxml')\n",
    "    #responses_districts.append(soup) #save quite some memory :)\n",
    "    for line in soup.find_all('a', href=True):\n",
    "        link = line['href']\n",
    "        blocks.append(link)\n",
    "        \n",
    "    count = count + 1\n",
    "    bar.update(count)\n",
    "\n",
    "#keep the right ones (total = un/de electrified or already electrified and intensive electrification received)\n",
    "blocks = [block for block in blocks if 'elect_status=U&elect_status1=D&elect_status2=E' in block]"
   ]
  },
  {
   "cell_type": "code",
   "execution_count": null,
   "metadata": {},
   "outputs": [],
   "source": [
    "len(blocks)"
   ]
  },
  {
   "cell_type": "code",
   "execution_count": null,
   "metadata": {},
   "outputs": [],
   "source": [
    "# split the blocks into pieces of 500 blocks each. \n",
    "# to track the progress of the requests on the blocks. \n",
    "chunks = [blocks[x:x+500] for x in range(0, len(blocks), 500)]"
   ]
  },
  {
   "cell_type": "code",
   "execution_count": null,
   "metadata": {},
   "outputs": [],
   "source": [
    "# chunks is a list of 12 lists of 500 block links each. \n",
    "len(chunks)"
   ]
  },
  {
   "cell_type": "code",
   "execution_count": null,
   "metadata": {},
   "outputs": [],
   "source": [
    "# from block links, extract village links \n",
    "# show a progress bar for preogresses on chunks. one step for each chunk \n",
    "links_village = []\n",
    "\n",
    "count = 0 \n",
    "bar = progressbar.ProgressBar(max_value=len(blocks))\n",
    "\n",
    "for block in blocks: #5875\n",
    "    response = requests.get(block)\n",
    "    soup = BeautifulSoup(response.text, 'lxml')\n",
    " \n",
    "    for line in soup.find_all('a', href=True):\n",
    "        link = line['href']        \n",
    "        links_village.append(link)\n",
    "       \n",
    "    count = count + 1 #next block\n",
    "    bar.update(count) #n_block/5875"
   ]
  },
  {
   "cell_type": "code",
   "execution_count": null,
   "metadata": {},
   "outputs": [],
   "source": [
    "links_village = [village for village in links_village if 'elect_status=U&elect_status1=D&elect_status2=E' in village ]"
   ]
  },
  {
   "cell_type": "code",
   "execution_count": null,
   "metadata": {},
   "outputs": [],
   "source": [
    "with open(\"villages.txt\", \"w\") as f: \n",
    "    f.write(str(links_village))"
   ]
  },
  {
   "cell_type": "code",
   "execution_count": null,
   "metadata": {},
   "outputs": [],
   "source": [
    "village_code = []\n",
    "for village in links_village: \n",
    "    v_code = village.split('villcd=')[1]\n",
    "    v_code = re.findall('^[0-9]+', v_code)\n",
    "    village_code.extend(v_code)"
   ]
  },
  {
   "cell_type": "code",
   "execution_count": null,
   "metadata": {},
   "outputs": [],
   "source": [
    "len(village_code)"
   ]
  },
  {
   "cell_type": "code",
   "execution_count": null,
   "metadata": {},
   "outputs": [],
   "source": [
    "block_code = []\n",
    "for village in links_village: \n",
    "    b_code = village.split('blkcd=')[1]\n",
    "    b_code = re.findall('^[0-9]+', b_code)\n",
    "    block_code.extend(b_code)"
   ]
  },
  {
   "cell_type": "code",
   "execution_count": null,
   "metadata": {},
   "outputs": [],
   "source": [
    "len(block_code)"
   ]
  },
  {
   "cell_type": "code",
   "execution_count": null,
   "metadata": {},
   "outputs": [],
   "source": [
    "district_code = []\n",
    "for village in links_village: \n",
    "    d_code = village.split('edtcd=')[1]\n",
    "    d_code = re.findall('^[0-9]+', d_code)\n",
    "    district_code.extend(d_code)"
   ]
  },
  {
   "cell_type": "code",
   "execution_count": null,
   "metadata": {},
   "outputs": [],
   "source": [
    "len(district_code)"
   ]
  },
  {
   "cell_type": "code",
   "execution_count": null,
   "metadata": {},
   "outputs": [],
   "source": [
    "state_code = []\n",
    "for village in links_village: \n",
    "    s_code = village.split('estcd=')[1]\n",
    "    s_code = re.findall('^[0-9]+', s_code)\n",
    "    state_code.extend(s_code)"
   ]
  },
  {
   "cell_type": "code",
   "execution_count": null,
   "metadata": {},
   "outputs": [],
   "source": [
    "len(state_code)"
   ]
  },
  {
   "cell_type": "code",
   "execution_count": null,
   "metadata": {},
   "outputs": [],
   "source": [
    "s = [i for i in np.arange(0,287691,2000)]"
   ]
  },
  {
   "cell_type": "code",
   "execution_count": null,
   "metadata": {},
   "outputs": [],
   "source": [
    "s"
   ]
  },
  {
   "cell_type": "code",
   "execution_count": null,
   "metadata": {},
   "outputs": [],
   "source": [
    "# make request on each village\n",
    "\n",
    "coverage = '\\xa0\\xa0Coverage Category(Un-Electrified/De-Electrified/Electrified)'\n",
    "RHH_plan = '\\xa0\\xa0No.of Rural Household(RHH) Connections to be Released' #rural household connection to be released\n",
    "BPL_plan =  '\\xa0\\xa0No.of BPL Connections to be Released'\n",
    "RHH_comp = '\\xa0\\xa0Rural Households Connections Completed(BPL+APL)'\n",
    "BPL_comp = '\\xa0\\xa0Number of BPL Households Connections Completed'\n",
    "N_habit = '\\xa0\\xa0Total No. Habitations\\n\\t\\t\\t\\t\\xa0\\n\\t\\t\\t\\t'"
   ]
  },
  {
   "cell_type": "code",
   "execution_count": null,
   "metadata": {},
   "outputs": [],
   "source": [
    "coverage_status = []\n",
    "RHH_plan_list = []\n",
    "BPL_plan_list = []\n",
    "RHH_comp_list = []\n",
    "BPL_comp_list = []\n",
    "N_habitations = []"
   ]
  },
  {
   "cell_type": "code",
   "execution_count": null,
   "metadata": {},
   "outputs": [],
   "source": [
    "len(links_village)"
   ]
  },
  {
   "cell_type": "code",
   "execution_count": null,
   "metadata": {},
   "outputs": [],
   "source": [
    "count = 0\n",
    "bar = progressbar.ProgressBar(max_value = len(links_village10))\n",
    "\n",
    "for village in links_village10: \n",
    "    sr = []  #single village response\n",
    "    response = requests.get(village)\n",
    "    soup = BeautifulSoup(response.text, 'lxml')\n",
    "    for line in soup.find_all('td'):\n",
    "        td = line.text\n",
    "        sr.append(td)\n",
    "    \n",
    "    i_cov = sr.index(coverage)\n",
    "    i_RHH_p = sr.index(RHH_plan)\n",
    "    i_BPL_p = sr.index(BPL_plan)\n",
    "    i_RHH_c = sr.index(RHH_comp)\n",
    "    i_BPL_c = sr.index(BPL_comp)\n",
    "    i_habit = sr.index(N_habit)\n",
    "    \n",
    "    cov = sr[i_cov+1].strip()\n",
    "    RHH_p = sr[i_RHH_p+1].strip()\n",
    "    BPL_p = sr[i_BPL_p+1].strip()\n",
    "    RHH_c = sr[i_RHH_c+1].strip()\n",
    "    BPL_c = sr[i_BPL_c+1].strip()\n",
    "    N_Habit = sr[i_habit+1].strip()\n",
    "    \n",
    "    coverage_status.append(cov)\n",
    "    RHH_plan_list.append(RHH_p)\n",
    "    BPL_plan_list.append(BPL_p)\n",
    "    RHH_comp_list.append(RHH_c)\n",
    "    BPL_comp_list.append(BPL_c)\n",
    "    N_habitations.append(N_Habit)\n",
    "\n",
    "    with open('villages_lists10.csv', 'w', newline='') as vl: \n",
    "        wr = csv.writer(vl, delimiter=',', quoting = csv.QUOTE_ALL)\n",
    "        wr.writerow(coverage_status)\n",
    "        wr.writerow(RHH_plan_list)\n",
    "        wr.writerow(BPL_plan_list)\n",
    "        wr.writerow(RHH_comp_list)\n",
    "        wr.writerow(BPL_comp_list)\n",
    "        wr.writerow(N_habitations)\n",
    "    \n",
    "    count = count + 1\n",
    "    bar.update(count)\n",
    "    \n",
    "    for i in s:\n",
    "        if count == i:\n",
    "            time.sleep(60)\n"
   ]
  },
  {
   "cell_type": "code",
   "execution_count": null,
   "metadata": {},
   "outputs": [],
   "source": [
    "len(coverage_status)"
   ]
  },
  {
   "cell_type": "code",
   "execution_count": null,
   "metadata": {},
   "outputs": [],
   "source": [
    "len(N_habitations)"
   ]
  },
  {
   "cell_type": "code",
   "execution_count": null,
   "metadata": {},
   "outputs": [],
   "source": [
    "len(RHH_plan_list)"
   ]
  },
  {
   "cell_type": "code",
   "execution_count": null,
   "metadata": {},
   "outputs": [],
   "source": [
    "data = pd.DataFrame({'elect_status': coverage_status, 'RHH_plan': RHH_plan_list, 'BPL_plan': BPL_plan_list, 'RHH_comp': RHH_comp_list, 'BPL_comp': BPL_comp_list, 'N_habit': N_habitations})"
   ]
  },
  {
   "cell_type": "code",
   "execution_count": null,
   "metadata": {},
   "outputs": [],
   "source": [
    "data"
   ]
  },
  {
   "cell_type": "code",
   "execution_count": null,
   "metadata": {},
   "outputs": [],
   "source": [
    "data.to_csv(r'C:\\Users\\Mari\\Documents\\Uni\\Python_materials\\all_villages.csv')"
   ]
  },
  {
   "cell_type": "code",
   "execution_count": null,
   "metadata": {},
   "outputs": [],
   "source": [
    "codes = pd.DataFrame({'state': state_code, 'district': district_code, 'block': block_code, 'village': village_code})"
   ]
  },
  {
   "cell_type": "code",
   "execution_count": null,
   "metadata": {},
   "outputs": [],
   "source": [
    "codes"
   ]
  },
  {
   "cell_type": "code",
   "execution_count": null,
   "metadata": {},
   "outputs": [],
   "source": [
    "villages_clean = pd.read_csv(r'C:\\Users\\Mari\\Documents\\Uni\\Python_materials\\all_villages_clean.csv')"
   ]
  },
  {
   "cell_type": "code",
   "execution_count": null,
   "metadata": {},
   "outputs": [],
   "source": [
    "villages_clean"
   ]
  },
  {
   "cell_type": "code",
   "execution_count": null,
   "metadata": {},
   "outputs": [],
   "source": [
    "full = pd.concat([codes, villages_clean], axis=1, sort=False)"
   ]
  },
  {
   "cell_type": "code",
   "execution_count": null,
   "metadata": {},
   "outputs": [],
   "source": [
    "full"
   ]
  },
  {
   "cell_type": "code",
   "execution_count": null,
   "metadata": {},
   "outputs": [],
   "source": [
    "full.to_excel(r'C:\\Users\\Mari\\Documents\\Uni\\Python_materials\\villages_clean_full.xlsx')"
   ]
  }
 ],
 "metadata": {
  "kernelspec": {
   "display_name": "Python 3 (ipykernel)",
   "language": "python",
   "name": "python3"
  },
  "language_info": {
   "codemirror_mode": {
    "name": "ipython",
    "version": 3
   },
   "file_extension": ".py",
   "mimetype": "text/x-python",
   "name": "python",
   "nbconvert_exporter": "python",
   "pygments_lexer": "ipython3",
   "version": "3.9.13"
  }
 },
 "nbformat": 4,
 "nbformat_minor": 2
}
